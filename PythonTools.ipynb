{
 "cells": [
  {
   "cell_type": "code",
   "execution_count": 1,
   "metadata": {},
   "outputs": [],
   "source": [
    "%matplotlib inline\n",
    "import sys\n",
    "import time\n",
    "\n",
    "import numpy as np\n",
    "import matplotlib.pyplot as plt"
   ]
  },
  {
   "cell_type": "markdown",
   "metadata": {},
   "source": [
    "# A little about iterators\n",
    "\n",
    "A neat Python hack we can discuss later"
   ]
  },
  {
   "cell_type": "code",
   "execution_count": 2,
   "metadata": {
    "scrolled": true
   },
   "outputs": [
    {
     "data": {
      "text/plain": [
       "[(0, 1, 2), (3, 4, 5), (6, 7, 8)]"
      ]
     },
     "execution_count": 2,
     "metadata": {},
     "output_type": "execute_result"
    }
   ],
   "source": [
    "list(zip(*[iter(np.arange(9))]*3))"
   ]
  },
  {
   "cell_type": "markdown",
   "metadata": {},
   "source": [
    "## Iterables\n",
    "\n",
    "Iterables are anything that defines the `__iter__` method.  The `__iter__` method is called whenever an iterable is iterated over at the beginning of a for loop.  The `__iter__` method can also be called using the `iter` builtin function.  The `__iter__` method must return an *iterator*.  In general, anything you can iterate over in a for loop is an iterable."
   ]
  },
  {
   "cell_type": "code",
   "execution_count": 3,
   "metadata": {},
   "outputs": [
    {
     "data": {
      "text/plain": [
       "True"
      ]
     },
     "execution_count": 3,
     "metadata": {},
     "output_type": "execute_result"
    }
   ],
   "source": [
    "# Lists are iterables\n",
    "hasattr([1,2,3], '__iter__')"
   ]
  },
  {
   "cell_type": "code",
   "execution_count": 4,
   "metadata": {},
   "outputs": [
    {
     "data": {
      "text/plain": [
       "True"
      ]
     },
     "execution_count": 4,
     "metadata": {},
     "output_type": "execute_result"
    }
   ],
   "source": [
    "# Strings are iterables\n",
    "hasattr(\"Hello World\", '__iter__')"
   ]
  },
  {
   "cell_type": "code",
   "execution_count": 5,
   "metadata": {},
   "outputs": [
    {
     "data": {
      "text/plain": [
       "True"
      ]
     },
     "execution_count": 5,
     "metadata": {},
     "output_type": "execute_result"
    }
   ],
   "source": [
    "# Range objects are iterables\n",
    "hasattr(range(5), '__iter__')"
   ]
  },
  {
   "cell_type": "markdown",
   "metadata": {},
   "source": [
    "## Iterators\n",
    "\n",
    "Iterators are a special type of iterable that define the `__next__` method.  The `__next__` method is a method that returns the next element in the object you are iterating over.  The `__next__` method is called at each loop in a for loop to get the next element.  The `__next__` method can also be called using the `next` builtin function.\n",
    "\n",
    "Iterators only have knowledge of their next state.  This means that you only have access to the next element to be iterated over.  This means that iterators cannot be sliced or indexed.  Iterators tend to compute their next value only when the value is requested.  This can be used to avoid the overhead of unnecessary caching."
   ]
  },
  {
   "cell_type": "code",
   "execution_count": 6,
   "metadata": {},
   "outputs": [
    {
     "data": {
      "text/plain": [
       "False"
      ]
     },
     "execution_count": 6,
     "metadata": {},
     "output_type": "execute_result"
    }
   ],
   "source": [
    "# Lists are not iterators\n",
    "hasattr([1,2,3], '__next__')"
   ]
  },
  {
   "cell_type": "code",
   "execution_count": 7,
   "metadata": {},
   "outputs": [
    {
     "data": {
      "text/plain": [
       "True"
      ]
     },
     "execution_count": 7,
     "metadata": {},
     "output_type": "execute_result"
    }
   ],
   "source": [
    "# Calling iter on an iterable makes it an iterator\n",
    "hasattr(iter([1,2,3]), '__next__')"
   ]
  },
  {
   "cell_type": "code",
   "execution_count": 8,
   "metadata": {},
   "outputs": [
    {
     "name": "stdout",
     "output_type": "stream",
     "text": [
      "H\n",
      "i\n"
     ]
    }
   ],
   "source": [
    "# Getting elements from an iterator\n",
    "iterator = iter(\"Hi\")\n",
    "print(next(iterator))\n",
    "print(next(iterator))"
   ]
  },
  {
   "cell_type": "markdown",
   "metadata": {},
   "source": [
    "### Bounis: `range` objects\n",
    "\n",
    "Are `range` objects iterators?"
   ]
  },
  {
   "cell_type": "code",
   "execution_count": 9,
   "metadata": {},
   "outputs": [
    {
     "ename": "TypeError",
     "evalue": "'range' object is not an iterator",
     "output_type": "error",
     "traceback": [
      "\u001b[0;31m---------------------------------------------------------------------------\u001b[0m",
      "\u001b[0;31mTypeError\u001b[0m                                 Traceback (most recent call last)",
      "\u001b[0;32m<ipython-input-9-fd811275ae80>\u001b[0m in \u001b[0;36m<module>\u001b[0;34m\u001b[0m\n\u001b[0;32m----> 1\u001b[0;31m \u001b[0mnext\u001b[0m\u001b[0;34m(\u001b[0m\u001b[0mrange\u001b[0m\u001b[0;34m(\u001b[0m\u001b[0;36m5\u001b[0m\u001b[0;34m)\u001b[0m\u001b[0;34m)\u001b[0m\u001b[0;34m\u001b[0m\u001b[0;34m\u001b[0m\u001b[0m\n\u001b[0m",
      "\u001b[0;31mTypeError\u001b[0m: 'range' object is not an iterator"
     ]
    }
   ],
   "source": [
    "next(range(5))"
   ]
  },
  {
   "cell_type": "markdown",
   "metadata": {},
   "source": [
    "## Writing a custom iterator\n",
    "\n",
    "We can write an interator as a class.  To do so, we must define the `__iter__` and `__next__` methods.  Since the `__iter__` method must return an iterator and the instance itself is an iterator, we can just return the instance from the `__iter__` method.\n",
    "\n",
    "The `__next__` method must return the next item in the iterator.  Once there are no more items to be returned, the `__next__` method must raise a `StopIteration` error.  This is a special type of error that Python for loops are aware of.  Once the `StopIteration` error is raised by an iterator, the for loop knows there are no more elements left and stops iterating."
   ]
  },
  {
   "cell_type": "code",
   "execution_count": 10,
   "metadata": {},
   "outputs": [],
   "source": [
    "class MyIterator:\n",
    "    \"\"\"An iterator that returns sequential positive \n",
    "    integers less than or equal to 10\n",
    "    \"\"\"\n",
    "    \n",
    "    def __init__(self):\n",
    "        \n",
    "        # Set some initial value for the iterator\n",
    "        self.state = 0\n",
    "    \n",
    "    def __iter__(self):\n",
    "        \n",
    "        # Since `self` is an iterator, we can just return it\n",
    "        return self\n",
    "    \n",
    "    def __next__(self):\n",
    "\n",
    "        self.state += 1 # Do something to update the object\n",
    "        if self.state > 10: # Must have some end condition\n",
    "            raise StopIteration # This causes to iteration to end\n",
    "        return self.state # This is the next value of the iterator"
   ]
  },
  {
   "cell_type": "code",
   "execution_count": 11,
   "metadata": {},
   "outputs": [
    {
     "name": "stdout",
     "output_type": "stream",
     "text": [
      "1 2 3 4 5 6 7 8 9 10 "
     ]
    }
   ],
   "source": [
    "iterator = MyIterator()\n",
    "\n",
    "for item in iterator:\n",
    "    print(item, end=' ')\n",
    "    \n",
    "# Notice how we're out of values\n",
    "for item in iterator:\n",
    "    print(item, end=' ')"
   ]
  },
  {
   "cell_type": "code",
   "execution_count": 12,
   "metadata": {},
   "outputs": [
    {
     "name": "stdout",
     "output_type": "stream",
     "text": [
      "-9 -8 -7 -6 -5 -4 -3 -2 -1 0 1 2 3 4 5 6 7 8 9 10 "
     ]
    }
   ],
   "source": [
    "# With this iterator, we can reset the state ourselves\n",
    "iterator.state = -10\n",
    "for item in iterator:\n",
    "    print(item, end=' ')"
   ]
  },
  {
   "cell_type": "markdown",
   "metadata": {},
   "source": [
    "# Functools"
   ]
  },
  {
   "cell_type": "markdown",
   "metadata": {},
   "source": [
    "# Partial"
   ]
  },
  {
   "cell_type": "code",
   "execution_count": 13,
   "metadata": {},
   "outputs": [],
   "source": [
    "from functools import partial"
   ]
  },
  {
   "cell_type": "code",
   "execution_count": 14,
   "metadata": {},
   "outputs": [
    {
     "name": "stdout",
     "output_type": "stream",
     "text": [
      "Help on built-in function print in module builtins:\n",
      "\n",
      "print(...)\n",
      "    print(value, ..., sep=' ', end='\\n', file=sys.stdout, flush=False)\n",
      "    \n",
      "    Prints the values to a stream, or to sys.stdout by default.\n",
      "    Optional keyword arguments:\n",
      "    file:  a file-like object (stream); defaults to the current sys.stdout.\n",
      "    sep:   string inserted between values, default a space.\n",
      "    end:   string appended after the last value, default a newline.\n",
      "    flush: whether to forcibly flush the stream.\n",
      "\n"
     ]
    }
   ],
   "source": [
    "help(print)"
   ]
  },
  {
   "cell_type": "markdown",
   "metadata": {},
   "source": [
    "## Print to stderr"
   ]
  },
  {
   "cell_type": "code",
   "execution_count": 15,
   "metadata": {},
   "outputs": [
    {
     "name": "stderr",
     "output_type": "stream",
     "text": [
      "Warning: You've got an Error\n"
     ]
    }
   ],
   "source": [
    "print_err = partial(print, file=sys.stderr, flush=True)\n",
    "print_err(\"Warning: You've got an Error\")"
   ]
  },
  {
   "cell_type": "markdown",
   "metadata": {},
   "source": [
    "## Loading Icon"
   ]
  },
  {
   "cell_type": "code",
   "execution_count": 16,
   "metadata": {},
   "outputs": [
    {
     "name": "stdout",
     "output_type": "stream",
     "text": [
      "20/20|####################|#################|##############|##################\r"
     ]
    }
   ],
   "source": [
    "loading_msg = partial(print, end='\\r', sep='|', flush=True)\n",
    "\n",
    "loading_msg(' '*26,'')\n",
    "for i in range(20):\n",
    "    loading_msg(f'{i+1:>2d}/20', '#'*(i+1))\n",
    "    time.sleep(0.2)"
   ]
  },
  {
   "cell_type": "markdown",
   "metadata": {},
   "source": [
    "## CSV File Writer"
   ]
  },
  {
   "cell_type": "code",
   "execution_count": 17,
   "metadata": {},
   "outputs": [],
   "source": [
    "csv_file = open('test_table.csv', 'w')\n",
    "\n",
    "csv_writer = partial(print, file=csv_file, sep=',', flush=True)\n",
    "for _ in range(10):\n",
    "    csv_writer(*np.random.random(3))"
   ]
  },
  {
   "cell_type": "code",
   "execution_count": 18,
   "metadata": {},
   "outputs": [
    {
     "name": "stdout",
     "output_type": "stream",
     "text": [
      "0.2829549470966546,0.7913389840116397,0.9327735926214271\r\n",
      "0.025995044684231083,0.8458335342823904,0.8257285015214271\r\n",
      "0.4382653241524628,0.5119143454745039,0.054630762707368885\r\n",
      "0.925851683514305,0.11178112685958819,0.7007718678869173\r\n",
      "0.1263171467639731,0.08789358250139334,0.19147322222376773\r\n",
      "0.8443474866221021,0.4826804558680925,0.1884564193992142\r\n",
      "0.9146874700964528,0.13988642448065725,0.6712016632214027\r\n",
      "0.7130497724257293,0.09589953063071732,0.8543023732366555\r\n",
      "0.39159779585303356,0.0396706530075559,0.8666067811137689\r\n",
      "0.20506839227241225,0.13147170114508122,0.41241509045106983\r\n"
     ]
    }
   ],
   "source": [
    "!cat test_table.csv"
   ]
  },
  {
   "cell_type": "markdown",
   "metadata": {},
   "source": [
    "## Log File Writer"
   ]
  },
  {
   "cell_type": "code",
   "execution_count": 19,
   "metadata": {},
   "outputs": [
    {
     "name": "stderr",
     "output_type": "stream",
     "text": [
      "Warning: Failed to write to file\n",
      "Warning: Failed to write to file\n",
      "Warning: Failed to write to file\n",
      "Warning: Failed to write to file\n",
      "Warning: Failed to write to file\n",
      "Warning: Failed to write to file\n",
      "Warning: Failed to write to file\n"
     ]
    }
   ],
   "source": [
    "logfile = open('my_log.log', 'w')\n",
    "logger = partial(print, file=logfile, flush=True)\n",
    "\n",
    "\n",
    "for i in range(20):\n",
    "    t = time.strftime(\"%H:%M:%S\", time.localtime())\n",
    "    if not (i % 3):\n",
    "        logger(t, 'Skipping Iteration: i=', i)\n",
    "        print_err(\"Warning: Failed to write to file\")\n",
    "    else:\n",
    "        logger(t, 'Writing to CSV file')\n",
    "        csv_writer(*np.arange(3))\n",
    "    time.sleep(0.2)"
   ]
  },
  {
   "cell_type": "code",
   "execution_count": 20,
   "metadata": {},
   "outputs": [
    {
     "name": "stdout",
     "output_type": "stream",
     "text": [
      "10:44:34 Skipping Iteration: i= 0\r\n",
      "10:44:34 Writing to CSV file\r\n",
      "10:44:35 Writing to CSV file\r\n",
      "10:44:35 Skipping Iteration: i= 3\r\n",
      "10:44:35 Writing to CSV file\r\n",
      "10:44:35 Writing to CSV file\r\n",
      "10:44:35 Skipping Iteration: i= 6\r\n",
      "10:44:36 Writing to CSV file\r\n",
      "10:44:36 Writing to CSV file\r\n",
      "10:44:36 Skipping Iteration: i= 9\r\n",
      "10:44:36 Writing to CSV file\r\n",
      "10:44:36 Writing to CSV file\r\n",
      "10:44:37 Skipping Iteration: i= 12\r\n",
      "10:44:37 Writing to CSV file\r\n",
      "10:44:37 Writing to CSV file\r\n",
      "10:44:37 Skipping Iteration: i= 15\r\n",
      "10:44:37 Writing to CSV file\r\n",
      "10:44:38 Writing to CSV file\r\n",
      "10:44:38 Skipping Iteration: i= 18\r\n",
      "10:44:38 Writing to CSV file\r\n"
     ]
    }
   ],
   "source": [
    "!cat my_log.log"
   ]
  },
  {
   "cell_type": "markdown",
   "metadata": {},
   "source": [
    "## A trick with wrappers"
   ]
  },
  {
   "cell_type": "code",
   "execution_count": 21,
   "metadata": {},
   "outputs": [
    {
     "name": "stdout",
     "output_type": "stream",
     "text": [
      "(1, 2, 5)\n",
      "[[ 9 10]\n",
      " [13 14]]\n"
     ]
    }
   ],
   "source": [
    "@partial(partial, z=5)\n",
    "def f(x, y, z=4):\n",
    "    return x, y, z\n",
    "    \n",
    "@partial(np.vectorize, signature='(m),(),()->(m)')\n",
    "def g(x, y, z):\n",
    "    return x + y * z\n",
    "\n",
    "print(f(1, 2))\n",
    "print(g([1, 2], [2, 3], 4))"
   ]
  },
  {
   "cell_type": "markdown",
   "metadata": {},
   "source": [
    "# Reduce"
   ]
  },
  {
   "cell_type": "code",
   "execution_count": 22,
   "metadata": {},
   "outputs": [],
   "source": [
    "from functools import reduce"
   ]
  },
  {
   "cell_type": "code",
   "execution_count": 23,
   "metadata": {},
   "outputs": [
    {
     "name": "stdout",
     "output_type": "stream",
     "text": [
      "Help on built-in function reduce in module _functools:\n",
      "\n",
      "reduce(...)\n",
      "    reduce(function, sequence[, initial]) -> value\n",
      "    \n",
      "    Apply a function of two arguments cumulatively to the items of a sequence,\n",
      "    from left to right, so as to reduce the sequence to a single value.\n",
      "    For example, reduce(lambda x, y: x+y, [1, 2, 3, 4, 5]) calculates\n",
      "    ((((1+2)+3)+4)+5).  If initial is present, it is placed before the items\n",
      "    of the sequence in the calculation, and serves as a default when the\n",
      "    sequence is empty.\n",
      "\n"
     ]
    }
   ],
   "source": [
    "help(reduce)"
   ]
  },
  {
   "cell_type": "code",
   "execution_count": 37,
   "metadata": {},
   "outputs": [
    {
     "data": {
      "text/plain": [
       "10"
      ]
     },
     "execution_count": 37,
     "metadata": {},
     "output_type": "execute_result"
    }
   ],
   "source": [
    "reduce(add, [1,2,3,4])\n",
    "add(add(1, 2), 3)\n",
    "add(add(add(1, 2), 3), 4)"
   ]
  },
  {
   "cell_type": "code",
   "execution_count": 36,
   "metadata": {},
   "outputs": [
    {
     "name": "stdout",
     "output_type": "stream",
     "text": [
      "45\n",
      "24\n"
     ]
    }
   ],
   "source": [
    "def add(x, y):\n",
    "    return x+y\n",
    "\n",
    "def mul(x, y):\n",
    "    return x*y\n",
    "\n",
    "print(reduce(add, range(10))) # same as sum\n",
    "print(reduce(mul, range(1,5))) # same as factorial"
   ]
  },
  {
   "cell_type": "code",
   "execution_count": 26,
   "metadata": {},
   "outputs": [
    {
     "name": "stdout",
     "output_type": "stream",
     "text": [
      "1 0\n",
      "2 1\n",
      "3 3\n",
      "4 6\n",
      "5 10\n",
      "6 15\n",
      "7 21\n",
      "8 28\n",
      "9 36\n"
     ]
    },
    {
     "data": {
      "text/plain": [
       "45"
      ]
     },
     "execution_count": 26,
     "metadata": {},
     "output_type": "execute_result"
    }
   ],
   "source": [
    "def print_args(x, y):\n",
    "    print(y, x)\n",
    "    return x+y\n",
    "\n",
    "reduce(print_args, range(10)) # prints the triangular numbers"
   ]
  },
  {
   "cell_type": "markdown",
   "metadata": {},
   "source": [
    "## Remove All Instances of Many Words"
   ]
  },
  {
   "cell_type": "code",
   "execution_count": 27,
   "metadata": {},
   "outputs": [
    {
     "name": "stdout",
     "output_type": "stream",
     "text": [
      "Python ###### method replace() \n",
      "returns a copy of the ###### in which the \n",
      "occurrences of ### have been replaced with \n",
      "###, optionally restricting the number of \n",
      "############ to ###.\n"
     ]
    }
   ],
   "source": [
    "def remove_word(sentence, word):\n",
    "    return sentence.replace(word, '#'*len(word))\n",
    "\n",
    "sentence = \"\"\"Python string method replace() \n",
    "returns a copy of the string in which the \n",
    "occurrences of old have been replaced with \n",
    "new, optionally restricting the number of \n",
    "replacements to max.\"\"\"\n",
    "\n",
    "print(reduce(remove_word, ['new', 'string', 'replacements', 'old', 'max'], sentence))"
   ]
  },
  {
   "cell_type": "markdown",
   "metadata": {},
   "source": [
    "# Itertools"
   ]
  },
  {
   "cell_type": "code",
   "execution_count": 41,
   "metadata": {},
   "outputs": [
    {
     "name": "stdout",
     "output_type": "stream",
     "text": [
      "x: 1\n",
      "args: (2, 3)\n",
      "kwargs {'a': 7, 'b': 8}\n"
     ]
    }
   ],
   "source": [
    "def f(x, *args, **kwargs):\n",
    "    print('x:', x)\n",
    "    print('args:',args)\n",
    "    print('kwargs',kwargs)\n",
    "    \n",
    "f(1,2,3, a=7, b=8)"
   ]
  },
  {
   "cell_type": "code",
   "execution_count": 43,
   "metadata": {},
   "outputs": [
    {
     "data": {
      "text/plain": [
       "([1, 2], 3)"
      ]
     },
     "execution_count": 43,
     "metadata": {},
     "output_type": "execute_result"
    }
   ],
   "source": [
    "*a, b = [1,2,3]\n",
    "a, b"
   ]
  },
  {
   "cell_type": "code",
   "execution_count": 46,
   "metadata": {},
   "outputs": [
    {
     "data": {
      "text/plain": [
       "(1, 2, 3, 5, 6, 7)"
      ]
     },
     "execution_count": 46,
     "metadata": {},
     "output_type": "execute_result"
    }
   ],
   "source": [
    "(*[1,2,3], 5, 6, 7)"
   ]
  },
  {
   "cell_type": "code",
   "execution_count": 45,
   "metadata": {},
   "outputs": [
    {
     "data": {
      "text/plain": [
       "(1, 2, 3)"
      ]
     },
     "execution_count": 45,
     "metadata": {},
     "output_type": "execute_result"
    }
   ],
   "source": [
    "a,b, c = [1,2,3]\n",
    "a,b,c"
   ]
  },
  {
   "cell_type": "markdown",
   "metadata": {},
   "source": [
    "## Chain"
   ]
  },
  {
   "cell_type": "code",
   "execution_count": 28,
   "metadata": {},
   "outputs": [],
   "source": [
    "from itertools import chain"
   ]
  },
  {
   "cell_type": "code",
   "execution_count": 29,
   "metadata": {},
   "outputs": [
    {
     "name": "stdout",
     "output_type": "stream",
     "text": [
      "['H', 'e', 'l', 'l', 'o', ' ', 'w', 'o', 'r', 'l', 'd']\n",
      "Hello world"
     ]
    }
   ],
   "source": [
    "items = ['Hello', ' ', 'world']\n",
    "print(list(chain(*items)))\n",
    "for i in chain(*items):\n",
    "    print(i, end='')"
   ]
  },
  {
   "cell_type": "markdown",
   "metadata": {},
   "source": [
    "## Cycle"
   ]
  },
  {
   "cell_type": "code",
   "execution_count": 30,
   "metadata": {},
   "outputs": [],
   "source": [
    "from itertools import cycle"
   ]
  },
  {
   "cell_type": "code",
   "execution_count": 38,
   "metadata": {},
   "outputs": [
    {
     "name": "stdout",
     "output_type": "stream",
     "text": [
      "r g b r g b r g b r "
     ]
    }
   ],
   "source": [
    "color_cycle = cycle('rgb')\n",
    "for _ in range(10):\n",
    "    print(next(color_cycle), end=' ')"
   ]
  },
  {
   "cell_type": "code",
   "execution_count": 32,
   "metadata": {},
   "outputs": [
    {
     "data": {
      "image/png": "[encoded data removed]",
      "text/plain": [
       "<Figure size 432x288 with 1 Axes>"
      ]
     },
     "metadata": {
      "needs_background": "light"
     },
     "output_type": "display_data"
    }
   ],
   "source": [
    "colors = 'rgb'\n",
    "heights = np.arange(9)\n",
    "for color, height in zip(cycle(colors), heights):\n",
    "    plt.plot(np.random.random(25)+height, color=color)"
   ]
  },
  {
   "cell_type": "markdown",
   "metadata": {},
   "source": [
    "## Repeat"
   ]
  },
  {
   "cell_type": "code",
   "execution_count": 33,
   "metadata": {},
   "outputs": [],
   "source": [
    "from itertools import repeat"
   ]
  },
  {
   "cell_type": "code",
   "execution_count": 34,
   "metadata": {},
   "outputs": [
    {
     "data": {
      "text/plain": [
       "[10, 10, 10, 10, 10, 10, 10, 10, 10, 10]"
      ]
     },
     "execution_count": 34,
     "metadata": {},
     "output_type": "execute_result"
    }
   ],
   "source": [
    "list(repeat(10, 10))"
   ]
  },
  {
   "cell_type": "code",
   "execution_count": 39,
   "metadata": {},
   "outputs": [
    {
     "name": "stdout",
     "output_type": "stream",
     "text": [
      "['-', '-', '-', ':', ':', ':', '--', '--', '--']\n"
     ]
    },
    {
     "data": {
      "image/png": "[encoded data removed]",
      "text/plain": [
       "<Figure size 432x288 with 1 Axes>"
      ]
     },
     "metadata": {
      "needs_background": "light"
     },
     "output_type": "display_data"
    }
   ],
   "source": [
    "line_styles = list(chain(*(repeat(style, 3) for style in ('-',':','--'))))\n",
    "print(line_styles)\n",
    "for color, height, style in zip(cycle(colors), heights, line_styles):\n",
    "    plt.plot(np.random.random(25)+height, color=color, ls=style)\n"
   ]
  },
  {
   "cell_type": "markdown",
   "metadata": {},
   "source": [
    "# Generators"
   ]
  },
  {
   "cell_type": "markdown",
   "metadata": {},
   "source": [
    "## Comprehension"
   ]
  },
  {
   "cell_type": "code",
   "execution_count": null,
   "metadata": {},
   "outputs": [],
   "source": [
    "storage = []\n",
    "for i in [1,2,3]:\n",
    "    storage.append(i)\n",
    "    \n",
    "#storage = [i for i in [1,2,3] if not i%2 for j in range(5)]\n"
   ]
  },
  {
   "cell_type": "code",
   "execution_count": null,
   "metadata": {},
   "outputs": [],
   "source": [
    "storage"
   ]
  },
  {
   "cell_type": "code",
   "execution_count": null,
   "metadata": {},
   "outputs": [],
   "source": [
    "mu = 1\n",
    "sigma = 0.5\n",
    "zscore = [(x-mu)/sigma for x in np.random.randn(10)*sigma+mu]\n",
    "print(zscore)"
   ]
  },
  {
   "cell_type": "code",
   "execution_count": null,
   "metadata": {},
   "outputs": [],
   "source": [
    "zscore_gen = ((x-mu)/sigma for x in np.random.randn(10)*sigma+mu)\n",
    "print(zscore_gen)"
   ]
  },
  {
   "cell_type": "code",
   "execution_count": null,
   "metadata": {},
   "outputs": [],
   "source": [
    "print(next(zscore_gen))"
   ]
  },
  {
   "cell_type": "code",
   "execution_count": null,
   "metadata": {},
   "outputs": [],
   "source": [
    "for z in zscore_gen:\n",
    "    print(z)"
   ]
  },
  {
   "cell_type": "code",
   "execution_count": null,
   "metadata": {},
   "outputs": [],
   "source": [
    "for z in zscore_gen:\n",
    "    print(zscore_gen)"
   ]
  },
  {
   "cell_type": "code",
   "execution_count": null,
   "metadata": {},
   "outputs": [],
   "source": [
    "print(next(zscore_gen))"
   ]
  },
  {
   "cell_type": "markdown",
   "metadata": {},
   "source": [
    "## yield"
   ]
  },
  {
   "cell_type": "markdown",
   "metadata": {},
   "source": [
    "### Basic Generator"
   ]
  },
  {
   "cell_type": "code",
   "execution_count": null,
   "metadata": {},
   "outputs": [],
   "source": [
    "def range_squared(N):\n",
    "    for i in range(N):\n",
    "        yield i**2"
   ]
  },
  {
   "cell_type": "code",
   "execution_count": null,
   "metadata": {},
   "outputs": [],
   "source": [
    "rs = range_squared(3)\n",
    "print(next(rs))\n",
    "print(next(rs))\n",
    "print(next(rs))"
   ]
  },
  {
   "cell_type": "code",
   "execution_count": null,
   "metadata": {},
   "outputs": [],
   "source": [
    "print(next(rs))"
   ]
  },
  {
   "cell_type": "code",
   "execution_count": null,
   "metadata": {},
   "outputs": [],
   "source": [
    "for i in range_squared(5):\n",
    "    print(i, end=' ')"
   ]
  },
  {
   "cell_type": "markdown",
   "metadata": {},
   "source": [
    "### Speeding up high memory operations"
   ]
  },
  {
   "cell_type": "code",
   "execution_count": null,
   "metadata": {},
   "outputs": [],
   "source": [
    "def create_data(N):\n",
    "    data_array = []\n",
    "    for _ in range(N):\n",
    "        data_array.append(np.random.random(100000))\n",
    "    return data_array\n",
    "\n",
    "def generate_data(N):\n",
    "    for _ in range(N):\n",
    "        yield np.random.random(100000)"
   ]
  },
  {
   "cell_type": "code",
   "execution_count": null,
   "metadata": {},
   "outputs": [],
   "source": [
    "%%timeit\n",
    "\n",
    "for data in create_data(1000):\n",
    "    pass"
   ]
  },
  {
   "cell_type": "code",
   "execution_count": null,
   "metadata": {},
   "outputs": [],
   "source": [
    "%%timeit\n",
    "\n",
    "for data in generate_data(1000):\n",
    "    pass"
   ]
  },
  {
   "cell_type": "markdown",
   "metadata": {},
   "source": [
    "### Making IO operations more efficient"
   ]
  },
  {
   "cell_type": "code",
   "execution_count": null,
   "metadata": {},
   "outputs": [],
   "source": [
    "import os\n",
    "\n",
    "\n",
    "def get_text(path):\n",
    "    lines = []\n",
    "    for root, dirs, files in os.walk(path):\n",
    "        for filename in files:\n",
    "            if filename.endswith('.py'):\n",
    "                with open(os.path.join(root, filename), 'r') as f:\n",
    "                    for line in f:\n",
    "                        lines.append(line)\n",
    "    return lines\n",
    "                        \n",
    "def gen_text(path):\n",
    "    for root, dirs, files in os.walk(path):\n",
    "        for filename in files:\n",
    "            if filename.endswith('.py'):\n",
    "                with open(os.path.join(root, filename)) as f:\n",
    "                    yield from f"
   ]
  },
  {
   "cell_type": "code",
   "execution_count": null,
   "metadata": {},
   "outputs": [],
   "source": [
    "%%timeit\n",
    "\n",
    "comment_count = 0\n",
    "for line in get_text(np.__path__[0]):\n",
    "    if '#' in line:\n",
    "        comment_count += 1\n"
   ]
  },
  {
   "cell_type": "code",
   "execution_count": null,
   "metadata": {},
   "outputs": [],
   "source": [
    "%%timeit\n",
    "\n",
    "comment_count = 0\n",
    "for line in gen_text(np.__path__[0]):\n",
    "    if '#' in line:\n",
    "        comment_count += 1"
   ]
  },
  {
   "cell_type": "markdown",
   "metadata": {},
   "source": [
    "### Concatentation Tricks"
   ]
  },
  {
   "cell_type": "code",
   "execution_count": null,
   "metadata": {},
   "outputs": [],
   "source": [
    "*def hstack(A, B):\n",
    "    for a in A:\n",
    "        yield a\n",
    "    for b in B:\n",
    "        yield b\n",
    "        \n",
    "print(list(hstack('Hello', ' world')))"
   ]
  },
  {
   "cell_type": "markdown",
   "metadata": {},
   "source": [
    "### Flattening Tricks"
   ]
  },
  {
   "cell_type": "code",
   "execution_count": null,
   "metadata": {},
   "outputs": [],
   "source": [
    "def flatten_1d(A):\n",
    "    for a in A:\n",
    "        yield from a\n",
    "\n",
    "print(list(flatten_1d(np.arange(9).reshape(3,3))))"
   ]
  },
  {
   "cell_type": "markdown",
   "metadata": {},
   "source": [
    "### Messing with Memory"
   ]
  },
  {
   "cell_type": "code",
   "execution_count": null,
   "metadata": {},
   "outputs": [],
   "source": [
    "def editable_data(N):\n",
    "    cache = np.random.random(5)\n",
    "    for _ in range(N):\n",
    "        cache += 1\n",
    "        yield cache"
   ]
  },
  {
   "cell_type": "code",
   "execution_count": null,
   "metadata": {},
   "outputs": [],
   "source": [
    "data_generator = editable_data(5)\n",
    "\n",
    "current_data = next(data_generator)\n",
    "print(current_data)"
   ]
  },
  {
   "cell_type": "code",
   "execution_count": null,
   "metadata": {},
   "outputs": [],
   "source": [
    "current_data -= 10\n",
    "print(next(data_generator))"
   ]
  },
  {
   "cell_type": "code",
   "execution_count": null,
   "metadata": {},
   "outputs": [],
   "source": [
    "%matplotlib inline\n",
    "series = np.empty((20, 5))\n",
    "\n",
    "for i, data in enumerate(editable_data(20)):\n",
    "    data *= 0.5\n",
    "    series[i] = data[::]\n",
    "    \n",
    "plt.plot(series);"
   ]
  },
  {
   "cell_type": "markdown",
   "metadata": {},
   "source": [
    "### Cleaner Integrators"
   ]
  },
  {
   "cell_type": "code",
   "execution_count": null,
   "metadata": {},
   "outputs": [],
   "source": [
    "def F(x):\n",
    "    # What's the solution?\n",
    "    return -5*x\n",
    "\n",
    "def euler_integrator(x0, v0, dt, T):\n",
    "    \n",
    "    times = np.arange(0, T, dt)\n",
    "    x = np.empty_like(times)\n",
    "    v = np.empty_like(times)\n",
    "    a = np.empty_like(times)\n",
    "    \n",
    "    x[0], v[0], a[0] = x0, v0, F(x0)\n",
    " \n",
    "    for i, t in enumerate(times[1:]):\n",
    "        x[i+1] = x[i] + v[i] * dt + 0.5*a[i] * dt**2\n",
    "        v[i+1] = v[i] + a[i] * dt\n",
    "        a[i+1] = F(x[i+1])\n",
    "        \n",
    "    return x, v, a, times\n",
    "\n",
    "def euler_generator(x0, v0, dt, T):\n",
    "    \n",
    "    t, x, v = 0, x0, v0\n",
    "    \n",
    "    while t < T:\n",
    "        a = F(x)\n",
    "        t += dt\n",
    "        x += v * dt + 0.5 * a * dt**2\n",
    "        v += a * dt\n",
    "        yield x, v, a, t\n",
    "    \n",
    "    "
   ]
  },
  {
   "cell_type": "code",
   "execution_count": null,
   "metadata": {},
   "outputs": [],
   "source": [
    "result = euler_integrator(5, 2, 0.001, 4)\n",
    "plt.plot(result[3], result[0], label='original')\n",
    "\n",
    "\n",
    "result = np.array(list(zip(*euler_generator(5, 2, 0.001, 4))))\n",
    "plt.plot(result[3], result[0], ls='--', label='generator')\n",
    "\n",
    "plt.legend();"
   ]
  },
  {
   "cell_type": "markdown",
   "metadata": {},
   "source": [
    "#### Say you only want the last result or want to use a callback"
   ]
  },
  {
   "cell_type": "code",
   "execution_count": null,
   "metadata": {},
   "outputs": [],
   "source": [
    "%%timeit\n",
    "\n",
    "result = np.array(euler_integrator(5, 2, 0.001, 4))[:, -1]"
   ]
  },
  {
   "cell_type": "code",
   "execution_count": null,
   "metadata": {
    "scrolled": true
   },
   "outputs": [],
   "source": [
    "%%timeit\n",
    "\n",
    "for i in euler_generator(5, 2, 0.001, 4):\n",
    "    result = i"
   ]
  },
  {
   "cell_type": "markdown",
   "metadata": {},
   "source": [
    "### Drinking Games!"
   ]
  },
  {
   "cell_type": "code",
   "execution_count": null,
   "metadata": {},
   "outputs": [],
   "source": [
    " def fizzbuzz_round(i):\n",
    "    if (i % 3) and (i % 5):\n",
    "        yield str(i)\n",
    "    if not (i % 3):\n",
    "        yield 'fizz'\n",
    "    if not (i % 5):\n",
    "        yield 'buzz'\n",
    "\n",
    "def fizzbuzz(N):\n",
    "    for i in range(1, N+1):\n",
    "        yield ''.join(fizzbuzz_round(i))\n",
    "            \n",
    "for item in fizzbuzz(20):\n",
    "    print(item)"
   ]
  },
  {
   "cell_type": "markdown",
   "metadata": {},
   "source": [
    "### Monte Carlo"
   ]
  },
  {
   "cell_type": "code",
   "execution_count": null,
   "metadata": {},
   "outputs": [],
   "source": [
    "data = np.linspace(-10, 10, 100)*5+2\n",
    "sigma = np.sqrt(data.mean())\n",
    "noise = np.random.randn(100)*sigma\n",
    "data += noise\n",
    "\n",
    "\n",
    "def F(x, y):\n",
    "    \n",
    "    return np.linspace(-10, 10, 100)*x+y\n",
    "\n",
    "def compute_chi2(x0, mu, sigma, N):\n",
    "    \n",
    "    x = x0.copy()\n",
    "    for _ in range(N):\n",
    "        yield x, np.sum((F(*x)-mu)**2)/sigma**2\n",
    "\n",
    "def metropolis_iterator(x0, N, n_burn):\n",
    "    \n",
    "    chi2_0, x0 = np.inf, np.array(x0)\n",
    "    for i, (x, chi2) in enumerate(compute_chi2(x0, data, sigma, N)):\n",
    "        \n",
    "        if i > n_burn:\n",
    "            yield x.copy()\n",
    "        \n",
    "        if chi2 - chi2_0 < np.log(np.random.random()):\n",
    "            chi2_0, x0[:] = chi2, x\n",
    "        \n",
    "        x[:] = x0 + np.random.randn(2)"
   ]
  },
  {
   "cell_type": "code",
   "execution_count": null,
   "metadata": {},
   "outputs": [],
   "source": [
    "walkers = np.array(list(metropolis_iterator([10.0, 0.0], 10000, 1000)))\n",
    "mean = walkers.mean(axis=0)\n",
    "std = walkers.std(axis=0)\n",
    "\n",
    "plt.scatter(walkers[:, 0], walkers[:, 1], s=10, alpha=0.25, edgecolor='None', color='k');\n",
    "\n",
    "plt.figure()\n",
    "\n",
    "plt.scatter(np.arange(100), data, s=10, edgecolor='None', color='k')\n",
    "plt.plot(F(*walkers.mean(axis=0)), ls='--')\n",
    "plt.fill_between(np.arange(100), F(*(mean+std)), F(*(mean-std)), color='gray', alpha=0.5)"
   ]
  },
  {
   "cell_type": "markdown",
   "metadata": {},
   "source": [
    "### Concurrency!"
   ]
  },
  {
   "cell_type": "code",
   "execution_count": null,
   "metadata": {},
   "outputs": [],
   "source": [
    "def run_procs_concurrent(*procs):\n",
    "    results = {proc:[] for proc in procs}\n",
    "    flags = {proc: 1 for proc in procs}\n",
    "    while any(flags.values()):\n",
    "        for proc in procs:\n",
    "            if flags[proc]:\n",
    "                try:\n",
    "                    results[proc].append(next(proc))\n",
    "                except StopIteration:\n",
    "                    yield results[proc]\n",
    "                    flags[proc] = 0\n"
   ]
  },
  {
   "cell_type": "code",
   "execution_count": null,
   "metadata": {},
   "outputs": [],
   "source": [
    "runners = (metropolis_iterator([10.0-i, 0.0+i], 10000, 9000) for i in range(10))\n",
    "results = run_procs_concurrent(*runners)\n",
    "results"
   ]
  },
  {
   "cell_type": "code",
   "execution_count": null,
   "metadata": {},
   "outputs": [],
   "source": [
    "walkers = reduce(hstack, results)\n",
    "all_walkers = np.array(list(walkers))\n",
    "plt.scatter(all_walkers[:, 0], all_walkers[:, 1], s=10, alpha=0.25, edgecolor='None', color='k');"
   ]
  },
  {
   "cell_type": "markdown",
   "metadata": {},
   "source": [
    "# What Should I Do Next Time? \n",
    "\n",
    "* Extend this notebook with Coroutines and AsyncIO\n",
    "\n",
    "* Generating Colors using matplotlib, palettable, and elbow grease\n",
    "\n",
    "* Python debugging with `breakpoint`"
   ]
  }
 ],
 "metadata": {
  "kernelspec": {
   "display_name": "tardis",
   "language": "python",
   "name": "tardis"
  },
  "language_info": {
   "codemirror_mode": {
    "name": "ipython",
    "version": 3
   },
   "file_extension": ".py",
   "mimetype": "text/x-python",
   "name": "python",
   "nbconvert_exporter": "python",
   "pygments_lexer": "ipython3",
   "version": "3.8.10"
  }
 },
 "nbformat": 4,
 "nbformat_minor": 4
}
