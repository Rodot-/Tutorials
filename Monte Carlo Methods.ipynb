{
 "cells": [
  {
   "cell_type": "markdown",
   "id": "64b095d4",
   "metadata": {},
   "source": [
    "# Drawing Random Numbers"
   ]
  },
  {
   "cell_type": "code",
   "execution_count": null,
   "id": "dda482bb",
   "metadata": {},
   "outputs": [],
   "source": [
    "import numpy as np\n",
    "import matplotlib.pyplot as plt"
   ]
  },
  {
   "cell_type": "markdown",
   "id": "6abbb5d7",
   "metadata": {},
   "source": [
    "## Uniform"
   ]
  },
  {
   "cell_type": "code",
   "execution_count": null,
   "id": "a001d553",
   "metadata": {},
   "outputs": [],
   "source": [
    "%matplotlib notebook\n",
    "\n",
    "low, high = 0, 1\n",
    "shape = (10000,)\n",
    "samples = np.random.uniform(low, high, shape)\n",
    "plt.hist(samples, bins=50);"
   ]
  },
  {
   "cell_type": "markdown",
   "id": "0920d656",
   "metadata": {},
   "source": [
    "## Normal"
   ]
  },
  {
   "cell_type": "code",
   "execution_count": null,
   "id": "abed5345",
   "metadata": {},
   "outputs": [],
   "source": [
    "%matplotlib notebook\n",
    "\n",
    "mu, sigma = 0, 1\n",
    "shape = (10000,)\n",
    "samples = np.random.normal(mu, sigma, shape)\n",
    "plt.hist(samples, bins=50);"
   ]
  },
  {
   "cell_type": "markdown",
   "id": "86b4aaf4",
   "metadata": {},
   "source": [
    "# Sampling From Cumulative Distribution Function (C.D.F.)\n",
    "\n",
    "## The exponential distribution\n",
    "\n",
    "$$pdf(x) = \\lambda e^{-\\lambda x} $$"
   ]
  },
  {
   "cell_type": "code",
   "execution_count": null,
   "id": "dc22082f",
   "metadata": {},
   "outputs": [],
   "source": [
    "%matplotlib notebook\n",
    "\n",
    "lam = 1\n",
    "x = np.arange(0, 10, 0.1)\n",
    "\n",
    "pdf = lam * np.exp(-lam * x)\n",
    "plt.plot(x, pdf)\n",
    "plt.xlabel('x')\n",
    "plt.ylabel('pdf(x)');"
   ]
  },
  {
   "cell_type": "markdown",
   "id": "f033ba7c",
   "metadata": {},
   "source": [
    "### Find the C.D.F.\n",
    "\n",
    "$$ \\int_{0}^{x} pdf(y) dy = 1 - e^{-\\lambda x} $$"
   ]
  },
  {
   "cell_type": "code",
   "execution_count": null,
   "id": "33753531",
   "metadata": {},
   "outputs": [],
   "source": [
    "%matplotlib notebook\n",
    "\n",
    "cdf = 1-np.exp(-lam*x)\n",
    "plt.plot(x, cdf)\n",
    "plt.xlabel('x')\n",
    "plt.ylabel('cdf(x)');"
   ]
  },
  {
   "cell_type": "markdown",
   "id": "eae1c984",
   "metadata": {},
   "source": [
    "Since the c.d.f. always ranges from 0 to 1, if we chose some uniform random number within this interval, the chance of it occuring within some subrange from $a$ to $b$ is $a-b$."
   ]
  },
  {
   "cell_type": "code",
   "execution_count": null,
   "id": "f3078b80",
   "metadata": {},
   "outputs": [],
   "source": [
    "%matplotlib notebook\n",
    "\n",
    "a = 0.2\n",
    "b = 0.1\n",
    "\n",
    "cdf = 1-np.exp(-lam*x)\n",
    "plt.plot(x, cdf)\n",
    "\n",
    "for i in range(100):\n",
    "    sample = np.random.random()\n",
    "    if a > sample > b:\n",
    "        color = 'r'\n",
    "    else:\n",
    "        color = 'k'\n",
    "    plt.axhline(sample, color=color, alpha=0.5, lw=1)\n",
    "\n",
    "plt.xlabel('x')\n",
    "plt.ylabel('cdf(x)');"
   ]
  },
  {
   "cell_type": "markdown",
   "id": "1057d419",
   "metadata": {},
   "source": [
    "So these samples of the c.d.f. value can be inverted to sample the values that occur within some probability interval.  We do this by inverting the c.d.f. to find the *quantile* function which maps a uniform random number to a number sampled from our distribution.\n",
    "\n",
    "$$ Q(p) = -\\frac{ln(1-p)}{\\lambda} $$"
   ]
  },
  {
   "cell_type": "code",
   "execution_count": null,
   "id": "4c8e1877",
   "metadata": {},
   "outputs": [],
   "source": [
    "%matplotlib notebook\n",
    "\n",
    "p = np.random.uniform(low, high, shape)\n",
    "samples = -np.log(1-p)/lam\n",
    "plt.plot(x, pdf, label='cdf(x)')\n",
    "plt.hist(samples, bins=50, density=True)\n",
    "plt.xlabel('x');"
   ]
  },
  {
   "cell_type": "markdown",
   "id": "fefe6da4",
   "metadata": {},
   "source": [
    "# Monte Carlo Methods\n",
    "\n",
    "## Computing Pi"
   ]
  },
  {
   "cell_type": "code",
   "execution_count": null,
   "id": "58edfd72",
   "metadata": {},
   "outputs": [],
   "source": [
    "%matplotlib notebook\n",
    "\n",
    "R = 1\n",
    "L = 2\n",
    "fig, ax = plt.subplots(1,1, figsize=(8,8))\n",
    "ax.add_patch(plt.Rectangle((-1,-1), L, L, fc='none', ec='k'))\n",
    "ax.add_patch(plt.Circle((0, 0), radius=R, fc='none', ec='r'))\n",
    "ax.set_xlim(-1.5,1.5)\n",
    "ax.set_ylim(-1.5, 1.5);"
   ]
  },
  {
   "cell_type": "markdown",
   "id": "68ea63e3",
   "metadata": {},
   "source": [
    "## Area of Rectangle\n",
    "\n",
    "$$A_{rect} = L^{2}$$\n",
    "\n",
    "## Area of the Circle\n",
    "\n",
    "$$A_{circ} = \\pi R^{2}$$\n",
    "\n",
    "## Relating the two\n",
    "\n",
    "$$L = 2R$$\n",
    "\n",
    "$$\\frac{A_{circ}}{A_{rect}} = \\frac{\\pi R^{2}}{L^{2}} = \\frac{\\pi R^{2}}{4 R^{2}} = \\frac{\\pi}{4} $$\n",
    "\n",
    "So if we can estimate the ratio of areas of the two shapes, we can estimate $\\pi$!  We can get an idea of the area the circle takes up by randomly dropping points around it.  The points that lie inside the circle will be within the area of the circle.  If we randomly sample over the bounds of the rectangle, the total number of samples will be proportional to the area of the rectangle.\n",
    "\n",
    "To determine if a random point, $(x, y)$ lies within a circle, we simply check if the magnitude of the vector is less than the radius of the circle.\n",
    "\n",
    "$$x^{2} + y^{2} < R^{2}$$"
   ]
  },
  {
   "cell_type": "code",
   "execution_count": null,
   "id": "b7555454",
   "metadata": {},
   "outputs": [],
   "source": [
    "%matplotlib notebook\n",
    "\n",
    "N_samples = 5000\n",
    "shape = (2, N_samples)\n",
    "x, y = samples = np.random.uniform(-1, 1, shape)\n",
    "mask = x**2 + y**2 < R**2\n",
    "\n",
    "fig, ax = plt.subplots(1,1, figsize=(8,8))\n",
    "ax.add_patch(plt.Rectangle((-1,-1), L, L, fc='none', ec='k'))\n",
    "ax.add_patch(plt.Circle((0, 0), radius=R, fc='none', ec='r'))\n",
    "ax.set_xlim(-1.5,1.5)\n",
    "ax.set_ylim(-1.5, 1.5)\n",
    "\n",
    "\n",
    "plt.scatter(x, y, edgecolor='none', marker='o', s=5)\n",
    "plt.scatter(x[mask], y[mask], edgecolor='none', marker='o', s=5)\n",
    "\n",
    "pi_est = samples[:, mask].shape[1]/samples.shape[1]*4\n",
    "plt.title(r'$\\pi \\approx {:.4f}$'.format(pi_est));"
   ]
  },
  {
   "cell_type": "markdown",
   "id": "4e4fd781",
   "metadata": {},
   "source": [
    "## Improving Accuracy"
   ]
  },
  {
   "cell_type": "code",
   "execution_count": null,
   "id": "4cafb5f7",
   "metadata": {},
   "outputs": [],
   "source": [
    "%matplotlib notebook\n",
    "import numba\n",
    "\n",
    "@numba.vectorize\n",
    "def estimate_pi(N_samples):\n",
    "\n",
    "    shape = (2, int(N_samples))\n",
    "    x, y = np.random.uniform(-1, 1, shape)\n",
    "    mask = x**2 + y**2 < R**2\n",
    "    pi_est = mask.sum()/N_samples*4\n",
    "    return pi_est\n",
    "    \n",
    "N_samples = np.logspace(1, 16, 16, base=2, dtype=np.int64)\n",
    "pi_est = estimate_pi(N_samples)\n",
    "\n",
    "\n",
    "plt.plot(N_samples, pi_est, label='Estimate', color='orange')\n",
    "plt.axhline(np.pi, label=r'Numpy $\\pi$', ls='--')\n",
    "\n",
    "plt.xscale('log')\n",
    "plt.xlabel('N Samples')\n",
    "plt.legend();"
   ]
  },
  {
   "cell_type": "markdown",
   "id": "15d8c0dc",
   "metadata": {},
   "source": [
    "## We should do this statistically!"
   ]
  },
  {
   "cell_type": "code",
   "execution_count": null,
   "id": "0d4b2b3e",
   "metadata": {},
   "outputs": [],
   "source": [
    "%matplotlib notebook\n",
    "\n",
    "\n",
    "@numba.vectorize\n",
    "def estimate_pi(N_samples):\n",
    "\n",
    "    shape = (2, int(N_samples))\n",
    "    x, y = np.random.uniform(-1, 1, shape)\n",
    "    mask = x**2 + y**2 < R**2\n",
    "    pi_est = mask.sum()/N_samples*4\n",
    "    return pi_est\n",
    "\n",
    "@numba.njit\n",
    "def estimate_pi_distribution(N_samples, N_iter):\n",
    "    N_iter = int(N_iter)\n",
    "    estimates = np.empty((N_samples.shape[0], N_iter))\n",
    "    for i in range(N_samples.shape[0]):\n",
    "        for j in range(N_iter):\n",
    "            estimates[i, j] = estimate_pi(N_samples[i])\n",
    "    return estimates\n",
    "\n",
    "pi_estimate = estimate_pi_distribution(N_samples, 60)\n",
    "pi_estimate_mean = pi_estimate.mean(axis=1)\n",
    "pi_estimate_std = pi_estimate.std(axis=1)\n",
    "\n",
    "\n",
    "plt.plot(N_samples, pi_estimate_mean, label='Mean', color='orange')\n",
    "plt.fill_between(N_samples, pi_estimate_mean-pi_estimate_std, \n",
    "                 pi_estimate_mean+pi_estimate_std, color='orange', alpha=0.5)\n",
    "plt.axhline(np.pi, label=r'Numpy $\\pi$', ls='--')\n",
    "\n",
    "plt.xscale('log')\n",
    "plt.xlabel('N Samples')\n",
    "plt.legend();"
   ]
  },
  {
   "cell_type": "markdown",
   "id": "f6e9423b",
   "metadata": {},
   "source": [
    "## Let's watch how our error converges"
   ]
  },
  {
   "cell_type": "code",
   "execution_count": null,
   "id": "49be6ff5",
   "metadata": {},
   "outputs": [],
   "source": [
    "%matplotlib notebook\n",
    "from scipy.stats import linregress\n",
    "\n",
    "slope, intercept, *_ = linregress(np.log(N_samples), np.log(pi_estimate_std))\n",
    "\n",
    "plt.plot(N_samples, pi_estimate_std, label='Mean', color='orange')\n",
    "\n",
    "plt.plot(N_samples, np.exp(slope*np.log(N_samples)+intercept), label='Best Fit', ls='--')\n",
    "\n",
    "plt.xscale('log')\n",
    "plt.yscale('log')\n",
    "plt.xlabel('N Samples')\n",
    "plt.title(r'Convergence Goes as $N^{%.2f}$' % (slope))\n",
    "plt.legend();"
   ]
  }
 ],
 "metadata": {
  "kernelspec": {
   "display_name": "tardis",
   "language": "python",
   "name": "tardis"
  },
  "language_info": {
   "codemirror_mode": {
    "name": "ipython",
    "version": 3
   },
   "file_extension": ".py",
   "mimetype": "text/x-python",
   "name": "python",
   "nbconvert_exporter": "python",
   "pygments_lexer": "ipython3",
   "version": "3.8.10"
  }
 },
 "nbformat": 4,
 "nbformat_minor": 5
}
